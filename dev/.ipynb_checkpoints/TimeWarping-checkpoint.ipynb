{
 "cells": [
  {
   "cell_type": "markdown",
   "id": "45c043bd-0277-4235-b897-3d4a092a1423",
   "metadata": {},
   "source": [
    "# Time warping\n",
    "Pitch control"
   ]
  },
  {
   "cell_type": "code",
   "execution_count": 1,
   "id": "06beff2d-d090-469a-8dc2-dd5f51da0146",
   "metadata": {},
   "outputs": [],
   "source": [
    "import numpy as np\n",
    "from matplotlib import pyplot as plt\n",
    "\n",
    "from rustic.utils import generate_wave, time_scale\n",
    "from rustic.generator import Generator\n",
    "\n",
    "from IPython.display import Audio"
   ]
  },
  {
   "cell_type": "code",
   "execution_count": 2,
   "id": "68df3361-bbff-4ba0-958e-8aad0fb54e3a",
   "metadata": {},
   "outputs": [],
   "source": [
    "SAMPLE_RATE = 1000\n",
    "DURATION = 1"
   ]
  },
  {
   "cell_type": "code",
   "execution_count": 3,
   "id": "053f9ca1-ad43-4471-b750-b6645b0fc5b6",
   "metadata": {},
   "outputs": [],
   "source": [
    "sine_wave = generate_wave(freq=20, duration=DURATION, sr=SAMPLE_RATE)"
   ]
  },
  {
   "cell_type": "code",
   "execution_count": null,
   "id": "63543933-1212-480d-ba1a-27142b5ef2f1",
   "metadata": {},
   "outputs": [
    {
     "data": {
      "text/plain": [
       "Text(0.5, 1.0, '20Hz over 1 second(s)')"
      ]
     },
     "execution_count": 4,
     "metadata": {},
     "output_type": "execute_result"
    }
   ],
   "source": [
    "plt.plot(time_scale(DURATION * SAMPLE_RATE, sample_rate=SAMPLE_RATE), sine_wave)\n",
    "plt.title(f\"20Hz over {DURATION} second(s)\")"
   ]
  },
  {
   "cell_type": "code",
   "execution_count": null,
   "id": "8bef8d89-c394-4967-be4e-430082eaf95a",
   "metadata": {},
   "outputs": [],
   "source": [
    "generator = Generator(20)\n",
    "\n",
    "values = []\n",
    "\n",
    "# Warp time to 0.5 after 0.3 seconds then beck to 1 after 0.3 seconds\n",
    "for x in range(DURATION * SAMPLE_RATE):\n",
    "    actual_time = x / SAMPLE_RATE\n",
    "    warp = 1.0\n",
    "    if actual_time < 0.3:\n",
    "        warp = 1.0\n",
    "    elif actual_time < 0.6:\n",
    "        warp = 0.5\n",
    "    elif actual_time < 0.9:\n",
    "        warp = 2.0\n",
    "    value = generator.tick(1 / SAMPLE_RATE, warp=warp)\n",
    "    values.append(value)"
   ]
  },
  {
   "cell_type": "code",
   "execution_count": null,
   "id": "2c7a674a-8bff-4869-bcf9-deb21fdf25e7",
   "metadata": {},
   "outputs": [],
   "source": [
    "plt.plot(time_scale(DURATION * SAMPLE_RATE, sample_rate=SAMPLE_RATE), values)\n",
    "plt.title(\"Time warping\")\n",
    "plt.show()"
   ]
  },
  {
   "cell_type": "markdown",
   "id": "27971852-a34f-4e22-9eae-a88b6b5f531b",
   "metadata": {},
   "source": [
    "# Making a drum sound"
   ]
  },
  {
   "cell_type": "code",
   "execution_count": null,
   "id": "c2c65ca5-e987-4f83-bbdc-14adf482e5df",
   "metadata": {},
   "outputs": [],
   "source": [
    "generator = Generator(20)\n",
    "\n",
    "values = []\n",
    "\n",
    "# Warp time to 0.5 after 0.3 seconds then beck to 1 after 0.3 seconds\n",
    "for x in range(DURATION * SAMPLE_RATE):\n",
    "    actual_time = x / SAMPLE_RATE\n",
    "    warp = 1.0\n",
    "    if actual_time < 0.5:\n",
    "        warp = (0.5 - actual_time) * 2 * 5 + 1.0\n",
    "    value = generator.tick(1 / SAMPLE_RATE, warp=warp)\n",
    "    values.append(value)"
   ]
  },
  {
   "cell_type": "code",
   "execution_count": null,
   "id": "8ff4230c-e553-4929-ac19-aee907a4b5bc",
   "metadata": {},
   "outputs": [],
   "source": [
    "plt.plot(time_scale(DURATION * SAMPLE_RATE, sample_rate=SAMPLE_RATE), values)\n",
    "plt.title(\"Time warping for drum sound\")\n",
    "plt.show()\n",
    "\n",
    "Audio(values, rate=SAMPLE_RATE)"
   ]
  }
 ],
 "metadata": {
  "kernelspec": {
   "display_name": "Python 3 (ipykernel)",
   "language": "python",
   "name": "python3"
  },
  "language_info": {
   "codemirror_mode": {
    "name": "ipython",
    "version": 3
   },
   "file_extension": ".py",
   "mimetype": "text/x-python",
   "name": "python",
   "nbconvert_exporter": "python",
   "pygments_lexer": "ipython3",
   "version": "3.10.16"
  }
 },
 "nbformat": 4,
 "nbformat_minor": 5
}
