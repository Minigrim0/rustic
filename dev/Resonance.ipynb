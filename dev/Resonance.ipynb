{
 "cells": [
  {
   "cell_type": "code",
   "execution_count": 1,
   "id": "4894e72c-d72f-4a53-8867-07e8b79110fa",
   "metadata": {},
   "outputs": [],
   "source": [
    "%matplotlib inline\n",
    "import numpy as np\n",
    "import matplotlib.pyplot as plt\n",
    "from ipywidgets import *"
   ]
  },
  {
   "cell_type": "code",
   "execution_count": 2,
   "id": "f07efbb2-390f-4e14-952b-f5da19ed071d",
   "metadata": {},
   "outputs": [],
   "source": [
    "A = [-1.287, 0.8282]"
   ]
  },
  {
   "cell_type": "code",
   "execution_count": 3,
   "id": "3e9ef950-4f4c-4cab-8454-894b9f686e6a",
   "metadata": {},
   "outputs": [],
   "source": [
    "def display_circle():\n",
    "    fig, ax = plt.subplots()\n",
    "    unit_circle = plt.Circle(( 0.0 , 0.0 ), 1.0, fill = False)\n",
    "\n",
    "    ax.set_aspect(1)\n",
    "    ax.grid(True, which='both')\n",
    "    ax.add_artist(unit_circle)\n",
    "    ax.set_xlim([-1.5, 1.5])\n",
    "    ax.set_ylim([-1.5, 1.5])\n",
    "    plt.title(\"Frequency circle representation\")"
   ]
  },
  {
   "cell_type": "code",
   "execution_count": 4,
   "id": "35de7e92-61e8-43b2-ac7c-fb33705eefaf",
   "metadata": {},
   "outputs": [],
   "source": [
    "def display_roots(roots: list):\n",
    "    for (idx, root) in enumerate(roots):\n",
    "        plt.plot([0.0, root.real], [0.0, root.imag], '.-', label=f\"root {idx}\")"
   ]
  },
  {
   "cell_type": "code",
   "execution_count": 5,
   "id": "b40ab2cc-1e8b-48f4-9f98-7d36caac4bae",
   "metadata": {},
   "outputs": [
    {
     "data": {
      "application/vnd.jupyter.widget-view+json": {
       "model_id": "2b62020a9f954d1fbeaa5ec5094ada2f",
       "version_major": 2,
       "version_minor": 0
      },
      "text/plain": [
       "interactive(children=(FloatSlider(value=-1.287, description='a_0', max=2.0, min=-2.0, step=0.001), FloatSlider…"
      ]
     },
     "metadata": {},
     "output_type": "display_data"
    },
    {
     "data": {
      "text/plain": [
       "<function __main__.update(a_0=-1.287, a_1=0.8282)>"
      ]
     },
     "execution_count": 5,
     "metadata": {},
     "output_type": "execute_result"
    }
   ],
   "source": [
    "SAMPLE_RATE = 44100.0\n",
    "\n",
    "def update(a_0 = -1.287, a_1 = 0.8282):\n",
    "    roots = np.roots([1, a_0, a_1])\n",
    "        \n",
    "    R = np.sqrt(a_1)\n",
    "    bw = -1 * np.log(a_1)\n",
    "    theta = np.arccos((-a_0) / (2 * np.sqrt(a_1)))\n",
    "    \n",
    "    print(f\"Roots magnitude: {R}\")\n",
    "    print(f\"Filter Bandwidth: {bw} rad/sample => {(bw / np.pi) * SAMPLE_RATE / 2:.4f} rad/s\")\n",
    "    print(f\"Filter Frequency: {theta} rad/sample => {(theta / np.pi) * SAMPLE_RATE / 2:.4f} rad/s\")\n",
    "    \n",
    "    display_circle()\n",
    "    display_roots(roots)\n",
    "    plt.tight_layout()\n",
    "    plt.ylabel(\"Imag\")\n",
    "    plt.xlabel(\"Real\")\n",
    "    plt.legend()\n",
    "    plt.show()\n",
    "\n",
    "interactive_plot = interact(update, a_0 =(-2.0, 2.0, 0.001), a_1=(-1.0, 1.0, 0.001))\n",
    "interactive_plot"
   ]
  }
 ],
 "metadata": {
  "kernelspec": {
   "display_name": "Python 3 (ipykernel)",
   "language": "python",
   "name": "python3"
  },
  "language_info": {
   "codemirror_mode": {
    "name": "ipython",
    "version": 3
   },
   "file_extension": ".py",
   "mimetype": "text/x-python",
   "name": "python",
   "nbconvert_exporter": "python",
   "pygments_lexer": "ipython3",
   "version": "3.10.16"
  }
 },
 "nbformat": 4,
 "nbformat_minor": 5
}
